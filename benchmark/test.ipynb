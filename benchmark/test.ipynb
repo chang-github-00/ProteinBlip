{
 "cells": [
  {
   "cell_type": "code",
   "execution_count": 8,
   "metadata": {},
   "outputs": [],
   "source": [
    "from rouge import Rouge\n",
    "from nltk import word_tokenize"
   ]
  },
  {
   "cell_type": "code",
   "execution_count": 4,
   "metadata": {},
   "outputs": [],
   "source": [
    "input = \"ATP + L-threonyl-[protein] = ADP + H+ + O-phospho-L-threonyl-[protein]\""
   ]
  },
  {
   "cell_type": "code",
   "execution_count": 5,
   "metadata": {},
   "outputs": [
    {
     "data": {
      "text/plain": [
       "['ATP',\n",
       " '+',\n",
       " 'L-threonyl-',\n",
       " '[',\n",
       " 'protein',\n",
       " ']',\n",
       " '=',\n",
       " 'ADP',\n",
       " '+',\n",
       " 'H+',\n",
       " '+',\n",
       " 'O-phospho-L-threonyl-',\n",
       " '[',\n",
       " 'protein',\n",
       " ']']"
      ]
     },
     "execution_count": 5,
     "metadata": {},
     "output_type": "execute_result"
    }
   ],
   "source": [
    "word_tokenize(input)"
   ]
  },
  {
   "cell_type": "code",
   "execution_count": 6,
   "metadata": {},
   "outputs": [],
   "source": [
    "ground_truth = \"ATP + L-threonyl-[protein] = ADP + H+ + O-phospho-L-threonyl-[protein]\""
   ]
  },
  {
   "cell_type": "code",
   "execution_count": 7,
   "metadata": {},
   "outputs": [
    {
     "data": {
      "text/plain": [
       "['ATP',\n",
       " '+',\n",
       " 'L-threonyl-',\n",
       " '[',\n",
       " 'protein',\n",
       " ']',\n",
       " '=',\n",
       " 'ADP',\n",
       " '+',\n",
       " 'H+',\n",
       " '+',\n",
       " 'O-phospho-L-threonyl-',\n",
       " '[',\n",
       " 'protein',\n",
       " ']']"
      ]
     },
     "execution_count": 7,
     "metadata": {},
     "output_type": "execute_result"
    }
   ],
   "source": [
    "word_tokenize(ground_truth)"
   ]
  },
  {
   "cell_type": "code",
   "execution_count": 9,
   "metadata": {},
   "outputs": [],
   "source": [
    "rouge = Rouge()  \n",
    "  \n",
    "# Calculate ROUGE scores  \n",
    "scores = rouge.get_scores(input, ground_truth, avg=True)  "
   ]
  },
  {
   "cell_type": "code",
   "execution_count": 10,
   "metadata": {},
   "outputs": [
    {
     "data": {
      "text/plain": [
       "{'rouge-1': {'r': 1.0, 'p': 1.0, 'f': 0.999999995},\n",
       " 'rouge-2': {'r': 1.0, 'p': 1.0, 'f': 0.999999995},\n",
       " 'rouge-l': {'r': 1.0, 'p': 1.0, 'f': 0.999999995}}"
      ]
     },
     "execution_count": 10,
     "metadata": {},
     "output_type": "execute_result"
    }
   ],
   "source": [
    "scores"
   ]
  }
 ],
 "metadata": {
  "kernelspec": {
   "display_name": "minigpt4",
   "language": "python",
   "name": "python3"
  },
  "language_info": {
   "codemirror_mode": {
    "name": "ipython",
    "version": 3
   },
   "file_extension": ".py",
   "mimetype": "text/x-python",
   "name": "python",
   "nbconvert_exporter": "python",
   "pygments_lexer": "ipython3",
   "version": "3.9.17"
  },
  "orig_nbformat": 4
 },
 "nbformat": 4,
 "nbformat_minor": 2
}
